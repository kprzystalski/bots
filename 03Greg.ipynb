{
 "cells": [
  {
   "cell_type": "markdown",
   "metadata": {},
   "source": [
    "![workshops](images/codete_workshops.jpg)"
   ]
  },
  {
   "cell_type": "markdown",
   "metadata": {},
   "source": [
    "# Greg - our stock market advisor"
   ]
  },
  {
   "cell_type": "markdown",
   "metadata": {},
   "source": [
    "In this section we focus on the following topics:\n",
    "- setup a facebook bot instance,\n",
    "- explain the [messenger API](https://developers.facebook.com/docs/messenger-platform),\n",
    "- handle stock symbol from NYSE and response with current stock details like: open, close, volume, min and max,\n",
    "- send buttons to buy or sell a given stock,\n",
    "- use some built-in NLP methods,\n",
    "- extend our chat with"
   ]
  },
  {
   "cell_type": "markdown",
   "metadata": {},
   "source": [
    "## Setup your account\n",
    "\n",
    "1. Go to [Facebook for developers page](https://developers.facebook.com/).\n",
    "2. Click on **My Apps** and next on **Add a New App**.\n",
    "3. Go to [Facebook](https://facebook.com/) and **Create a new page**.\n",
    "4. Create a new **Community** page and fill out the form.\n",
    "5. Go back to [Facebook for developers page](https://developers.facebook.com/) and fill out **Display Name**, **Category** and **Contact Email** in **Settings->Basic**.\n",
    "6. Add **Messenger** product.\n",
    "7. Select **Page** and copy the **Page Access Token** below.\n",
    "8. Add **Webhooks** and fill out the url with our **app url** from ngrok and subscribe to **messages, message_reads**. Put a **verification token** of your choice that you need to assign to the variable below.\n",
    "9. Save Changes and you are ready to go."
   ]
  },
  {
   "cell_type": "markdown",
   "metadata": {},
   "source": [
    "Now you are ready to test your bot. You can test your app at [Facebook for developers page](https://developers.facebook.com/) in **Webhooks** tab. Start the server below you start testing your app. Next, you can test sending a message to your Facebook page."
   ]
  },
  {
   "cell_type": "code",
   "execution_count": null,
   "metadata": {},
   "outputs": [],
   "source": [
    "from flask import Flask, request\n",
    "from pymessenger.bot import Bot\n",
    "\n",
    "app = Flask(__name__)\n",
    "ACCESS_TOKEN = ''\n",
    "VERIFY_TOKEN = ''\n",
    "bot = Bot(ACCESS_TOKEN)\n",
    "\n",
    "@app.route(\"/\", methods=['GET', 'POST'])\n",
    "def receive_message():\n",
    "    if request.method == 'GET':\n",
    "        token_sent = request.args.get(\"hub.verify_token\")\n",
    "        return verify_fb_token(token_sent)\n",
    "    else:\n",
    "        output = request.get_json()\n",
    "        for event in output['entry']:\n",
    "            messaging = event['messaging']\n",
    "            for message in messaging:\n",
    "                if message.get('message'):\n",
    "                    recipient_id = message['sender']['id']\n",
    "                    if message['message'].get('text'):\n",
    "                        response_sent_text = get_message()\n",
    "                        send_message(recipient_id, response_sent_text)\n",
    "        return \"Message Processed\"\n",
    "\n",
    "def verify_fb_token(token_sent):\n",
    "    if token_sent == VERIFY_TOKEN:\n",
    "        return request.args.get(\"hub.challenge\")\n",
    "    return 'Invalid verification token'\n",
    "\n",
    "def get_message():\n",
    "    response = \"Hi! Here is Greg, your stock market advisor. Give me the symbol to check for you.\"\n",
    "    return response\n",
    "\n",
    "def send_message(recipient_id, response):\n",
    "    bot.send_text_message(recipient_id, response)\n",
    "    return \"success\"\n",
    "\n",
    "if __name__ == \"__main__\":\n",
    "    app.run()"
   ]
  },
  {
   "cell_type": "markdown",
   "metadata": {},
   "source": [
    "## Stock market\n",
    "\n",
    "We have prepared a service that allows you to get the current stock daily information. Use the code below to get the recent daily information about Apple stocks. You can try any other stock symbol that is at the New York Stock Exchange."
   ]
  },
  {
   "cell_type": "code",
   "execution_count": null,
   "metadata": {},
   "outputs": [],
   "source": [
    "import requests\n",
    "\n",
    "SYMBOL = \"AAPL\"\n",
    "URL = \"http://stock.codete.eu:5050/\"\n",
    "response = requests.get(URL+SYMBOL)\n",
    "\n",
    "if response.status_code == 200:\n",
    "    json = response.json()\n",
    "    print(json)\n",
    "else:\n",
    "    print(\"Something is wrong!\")"
   ]
  },
  {
   "cell_type": "markdown",
   "metadata": {},
   "source": [
    "You can also use any other provider like [Alpha Vantage](https://www.alphavantage.co/support/#api-key) to different stock market data."
   ]
  },
  {
   "cell_type": "markdown",
   "metadata": {},
   "source": [
    "### Exercise 1: Use Greg to get the symbol and respond with the recent stock information using the service above.\n",
    "\n",
    "Hint: Stop the previous example before you start a new one. Don't restart ngrok as the url may change when restarting."
   ]
  },
  {
   "cell_type": "code",
   "execution_count": null,
   "metadata": {},
   "outputs": [],
   "source": [
    "from flask import Flask, request\n",
    "from pymessenger.bot import Bot\n",
    "\n",
    "app = Flask(__name__)\n",
    "ACCESS_TOKEN = ''\n",
    "VERIFY_TOKEN = ''\n",
    "bot = Bot(ACCESS_TOKEN)\n",
    "\n",
    "@app.route(\"/\", methods=['GET', 'POST'])\n",
    "def receive_message():\n",
    "    if request.method == 'GET':\n",
    "        token_sent = request.args.get(\"hub.verify_token\")\n",
    "        return verify_fb_token(token_sent)\n",
    "    else:\n",
    "        output = request.get_json()\n",
    "        for event in output['entry']:\n",
    "            messaging = event['messaging']\n",
    "            for message in messaging:\n",
    "                if message.get('message'):\n",
    "                    recipient_id = message['sender']['id']\n",
    "                    if message['message'].get('text'):\n",
    "                        ### here comes your code\n",
    "                        pass\n",
    "                    \n",
    "        return \"Message Processed\"\n",
    "\n",
    "def verify_fb_token(token_sent):\n",
    "    if token_sent == VERIFY_TOKEN:\n",
    "        return request.args.get(\"hub.challenge\")\n",
    "    return 'Invalid verification token'\n",
    "\n",
    "def get_message():\n",
    "    response = \"Hi! Here is Greg, your stock market advisor. Give me the symbol to check for you.\"\n",
    "    return response\n",
    "\n",
    "def send_message(recipient_id, response):\n",
    "    ## potentially, here comes your code too\n",
    "    bot.send_text_message(recipient_id, response)\n",
    "    return \"success\"\n",
    "\n",
    "if __name__ == \"__main__\":\n",
    "    app.run()"
   ]
  },
  {
   "cell_type": "markdown",
   "metadata": {},
   "source": [
    "## Messenger message types\n",
    "\n",
    "Except of pure text messages we can also send a bit more complex messages like audio files, images or just buttons. You can find the full list of messages at [Messenger Platform Docs](https://developers.facebook.com/docs/messenger-platform/send-messages)."
   ]
  },
  {
   "cell_type": "markdown",
   "metadata": {},
   "source": [
    "### Exercise 2: Use the call button to call Greg to buy or sell a given stock. \n",
    "\n",
    "Hint: To finish this exercise use the [button docs](https://developers.facebook.com/docs/messenger-platform/send-messages/buttons#buy). The button should be invoked after the user ask for a specific stock."
   ]
  },
  {
   "cell_type": "code",
   "execution_count": null,
   "metadata": {},
   "outputs": [],
   "source": [
    "def send_buy_button(recipient_id):\n",
    "    pay_button = \"\"\"{\n",
    "        \"type\": \"phone_number\",\n",
    "        \"title\": \"<TITLE>\",\n",
    "        \"payload\": \"<PHONE_NUMBER>\" \n",
    "    }\"\"\"\n",
    "    ## your code goes here\n",
    "    pass\n",
    "\n",
    "\n",
    "## and here"
   ]
  }
 ],
 "metadata": {
  "kernelspec": {
   "display_name": "Python 3",
   "language": "python",
   "name": "python3"
  },
  "language_info": {
   "codemirror_mode": {
    "name": "ipython",
    "version": 3
   },
   "file_extension": ".py",
   "mimetype": "text/x-python",
   "name": "python",
   "nbconvert_exporter": "python",
   "pygments_lexer": "ipython3",
   "version": "3.6.3"
  }
 },
 "nbformat": 4,
 "nbformat_minor": 2
}
