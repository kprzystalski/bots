{
 "cells": [
  {
   "cell_type": "markdown",
   "metadata": {},
   "source": [
    "<p align=\"center\">\n",
    "  <img src=\"images/codete_workshops.jpg\" />\n",
    "</p>"
   ]
  },
  {
   "cell_type": "markdown",
   "metadata": {
    "collapsed": true
   },
   "source": [
    "### Preparation\n",
    "\n",
    "Before you start, please read the preparation instructions."
   ]
  },
  {
   "cell_type": "markdown",
   "metadata": {},
   "source": [
    "### Short theory first\n",
    "\n",
    "Topics that are related to bots and AI are the following:\n",
    "* natural language processing,\n",
    "* natural language understanding,\n",
    "* sentiment analysis,\n",
    "* context management,\n",
    "* pattern recognition.\n",
    "\n",
    "We focus in this workshop on NLU and sentiment analysis.\n",
    "\n",
    "There are planty of bot types. One of the taxonomy is presented in [1] and looks like following:\n",
    "* personal bots/team bots,\n",
    "* voice/text bots,\n",
    "* super bots and domain-specific bots,\n",
    "* many others."
   ]
  },
  {
   "cell_type": "markdown",
   "metadata": {},
   "source": [
    "### Let's meet Anna our HR assistant\n",
    "\n",
    "<p align=\"center\">\n",
    "  <img src=\"images/hr_bot_logo_S.png\" />\n",
    "</p>\n",
    "\n",
    "She helps our HR department with the recruitment process. The main goals are:\n",
    "1. Add, delete and move trello cards where all candidates are placed.\n",
    "2. React on slack #hr channel, measure the sentiment or each message.\n",
    "\n",
    "**Scenario 1**\n",
    "1. Connect to Slack.\n",
    "2. Send and receive messages from given channel.\n",
    "3. Add sentiment analysis and analyse messages.\n",
    "\n",
    "**Scenario 2**\n",
    "1. Build a NLU model based on rasa package.\n",
    "2. Based on received messages check the intent.\n",
    "3. If the goal is to add a new candidate to trello, the bot should add a new card in Trello.\n",
    "\n",
    "**Scenario 3**\n",
    "1. Use Google Translate to imitate our voice.\n",
    "2. Connect to AVS and get a response.\n",
    "3. Build a \"skill\" that will get the current recruitment status from Trello and response (imitate) with a voice answer."
   ]
  },
  {
   "cell_type": "markdown",
   "metadata": {},
   "source": [
    "### Scenario 1"
   ]
  },
  {
   "cell_type": "markdown",
   "metadata": {},
   "source": [
    "### Slack\n",
    "\n",
    "You need to create an account first. It's good to create a new slack workspace, but you can use also a slack account where you have the admin priviliges as described in the preparation document.\n"
   ]
  },
  {
   "cell_type": "code",
   "execution_count": 1,
   "metadata": {
    "collapsed": true
   },
   "outputs": [],
   "source": [
    "SLACK_TOKEN = \"\""
   ]
  },
  {
   "cell_type": "markdown",
   "metadata": {},
   "source": [
    "#### Testing your Slack environment"
   ]
  },
  {
   "cell_type": "code",
   "execution_count": null,
   "metadata": {
    "collapsed": true
   },
   "outputs": [],
   "source": [
    "from slackclient import SlackClient\n",
    "\n",
    "sc = SlackClient(SLACK_TOKEN)\n",
    "\n",
    "if sc.rtm_connect():\n",
    "     sc.api_call(\"chat.postMessage\", channel=\"#general\",\n",
    "                          text=\"test\", as_user=False) \n",
    "else:\n",
    "    print(\"Connection failed\")"
   ]
  },
  {
   "cell_type": "code",
   "execution_count": null,
   "metadata": {
    "collapsed": true
   },
   "outputs": [],
   "source": [
    "sc = SlackClient(SLACK_TOKEN)\n",
    "\n",
    "if sc.rtm_connect():\n",
    "     sc.api_call(\"chat.postMessage\", channel=\"#general\",\n",
    "                          text=\"Hello. I'm Anna, your HR assistant. How can I help?\", as_user=True)\n",
    "else:\n",
    "    print(\"Connection failed\")"
   ]
  },
  {
   "cell_type": "markdown",
   "metadata": {},
   "source": [
    "#### TASK 1: Identify with who the bot is getting the message from and get channel id by name.\n",
    "\n",
    "Implement a util function ```get_user()```. As parameter we get an instance of ```SlackClient```. Use it to get the user lists by ```id``` as a map ```{'id':'name'}```. Find the proper method in the Slack API documentation: [2]."
   ]
  },
  {
   "cell_type": "code",
   "execution_count": null,
   "metadata": {
    "collapsed": true
   },
   "outputs": [],
   "source": [
    "def get_user_map(sc):\n",
    "    users = {}\n",
    "    # put your code here\n",
    "    return users"
   ]
  },
  {
   "cell_type": "markdown",
   "metadata": {},
   "source": [
    "Implement a util function ```get_channel_id_by_name()```. As parameter we get an instance of ```SlackClient```. Find the proper method in the Slack API documentation: [2]."
   ]
  },
  {
   "cell_type": "code",
   "execution_count": null,
   "metadata": {
    "collapsed": true
   },
   "outputs": [],
   "source": [
    "def get_channel_id_by_name(sc, channel_name):\n",
    "    channel_id = \"\"\n",
    "    # put your code here\n",
    "    return channel_id"
   ]
  },
  {
   "cell_type": "markdown",
   "metadata": {},
   "source": [
    "#### Read messages"
   ]
  },
  {
   "cell_type": "code",
   "execution_count": null,
   "metadata": {
    "collapsed": true
   },
   "outputs": [],
   "source": [
    "import time\n",
    "\n",
    "sc = SlackClient(SLACK_TOKEN)\n",
    "\n",
    "if sc.rtm_connect():\n",
    "      #channel_id = get_channel_id_by_name(sc, \"general\")\n",
    "      last_message_id = 0\n",
    "      while True:\n",
    "           response = sc.api_call(\"channels.history\", channel=\"C76LMNLFP\", count=1,latest=\"\")\n",
    "           if response['ok']:\n",
    "                msg = response['messages'][0]\n",
    "                if msg['ts'] != last_message_id:\n",
    "                     if 'user' in msg:\n",
    "                          #put your code here\n",
    "                          print(msg[\"user\"]+\": \"+ msg[\"text\"])\n",
    "                          last_message_id = msg['ts']\n",
    "           time.sleep(5)       \n",
    "else:\n",
    "    print(\"Connection failed\") "
   ]
  },
  {
   "cell_type": "markdown",
   "metadata": {
    "collapsed": true
   },
   "source": [
    "### Sentiment analysis\n",
    "\n",
    "At Codete Research Lab we have develop a solution for semantic analysis. More details about it can be found: [3] and [4]."
   ]
  },
  {
   "cell_type": "code",
   "execution_count": null,
   "metadata": {
    "collapsed": true
   },
   "outputs": [],
   "source": [
    "import requests\n",
    "import json\n",
    "\n",
    "def get_sentiment(sentence):\n",
    "    url = \"http://rest-ml-model-dev.eu-west-1.elasticbeanstalk.com/model/c8f8f825-1eff-4f5d-80d6-b6c65e81/prediction\"\n",
    "    payload = {\"sentence\":sentence}\n",
    "    headers = {\"Content-type\": \"application/json\", \"Accept\": \"application/json\"}\n",
    "    response = requests.put(url,json=payload,headers=headers)\n",
    "    return response.json()"
   ]
  },
  {
   "cell_type": "code",
   "execution_count": null,
   "metadata": {
    "collapsed": true,
    "scrolled": true
   },
   "outputs": [],
   "source": [
    "import matplotlib.pyplot as plt\n",
    "\n",
    "sentiment = get_sentiment(\"good Python skills\")\n",
    "#he had some good ideas for solutions\n",
    "print(sentiment)\n",
    "labels = ['Negative','Neutral','Positive']\n",
    "colors = ['red','gray','green']\n",
    "patches, texts = plt.pie(list(sentiment.values()),colors=colors,startangle=0)\n",
    "plt.legend(patches, labels)\n",
    "plt.axis('equal')\n",
    "plt.tight_layout()\n",
    "plt.show()"
   ]
  },
  {
   "cell_type": "markdown",
   "metadata": {},
   "source": [
    "#### TASK 2: Combine sentiment analysis with Slack messages\n",
    "\n",
    "Take the methods above and combine it together with slack messages that you retrieve from the users. If you have run methods like ```get_sentiment()```, you don't need to rewrite it again here. "
   ]
  },
  {
   "cell_type": "code",
   "execution_count": null,
   "metadata": {
    "collapsed": true
   },
   "outputs": [],
   "source": [
    "sc = SlackClient(SLACK_TOKEN)\n",
    "\n",
    "if sc.rtm_connect():\n",
    "      last_message_id = 0\n",
    "      while True:\n",
    "            pass\n",
    "        # your code goes here\n",
    "else:\n",
    "    print(\"Connection failed\")     "
   ]
  },
  {
   "cell_type": "markdown",
   "metadata": {},
   "source": [
    "### Scenario 2"
   ]
  },
  {
   "cell_type": "markdown",
   "metadata": {
    "collapsed": true
   },
   "source": [
    "Before we start here, we need to get the tokens to Trello. To obtain token we need to follow the steps:\n",
    "1. Signup at http://trello.com and follow the registration instructions.\n",
    "2. Go to https://trello.com/app-key to obtain the api-key, secret key and token. The API-KEY is available under Key on the top of the page. The API_SECRET_KEY is available on the bottom of the page under Secret. The TOKEN can be found under the Token link in the top of the page."
   ]
  },
  {
   "cell_type": "code",
   "execution_count": null,
   "metadata": {
    "collapsed": true
   },
   "outputs": [],
   "source": [
    "API_KEY = \"\"\n",
    "API_SECRET_KEY = \"\"\n",
    "TOKEN = \"\"\n",
    "TOKEN_SECRET = \"\""
   ]
  },
  {
   "cell_type": "code",
   "execution_count": null,
   "metadata": {
    "collapsed": true
   },
   "outputs": [],
   "source": [
    "from trello import TrelloClient\n",
    "\n",
    "client = TrelloClient(\n",
    "    api_key=API_KEY,\n",
    "    api_secret=API_SECRET_KEY,\n",
    "    token=TOKEN,\n",
    "    token_secret=TOKEN_SECRET\n",
    ")\n",
    "\n",
    "boards = client.list_boards()\n",
    "print(boards)"
   ]
  },
  {
   "cell_type": "markdown",
   "metadata": {},
   "source": [
    "#### Setup our board lists\n",
    "\n",
    "If we have a clean setup of Trello, we probably have just one board, so we need to create our _Recruitment_ board and lists like: _Prescreening_, _Before interview_, _After interview_, _Finished_. It can be easily done by using Python Trello API. You can read more about the Trello Python library: [4]"
   ]
  },
  {
   "cell_type": "code",
   "execution_count": null,
   "metadata": {
    "collapsed": true
   },
   "outputs": [],
   "source": [
    "def setup_trello_board():\n",
    "    recruitment_board = None\n",
    "    for board in boards:\n",
    "        if board.name == \"Recruitment\":\n",
    "            recruitment_board= board\n",
    "    if recruitment_board == None:\n",
    "        recruitment_board = client.add_board(\"Recruitment\")\n",
    "    lists_to_create = ['Prescreening','Before interview','After interview','Finished']\n",
    "    \n",
    "    #trello_lists = recruitment_board.all_list()\n",
    "    \n",
    "    finished_list     = recruitment_board.add_list(lists_to_create[3])\n",
    "    after_list        = recruitment_board.add_list(lists_to_create[2])\n",
    "    before_list       = recruitment_board.add_list(lists_to_create[1])\n",
    "    prescreening_list = recruitment_board.add_list(lists_to_create[0])        \n",
    "    \n",
    "    return recruitment_board, prescreening_list, before_list, after_list, finished_list\n",
    "\n",
    "# run once\n",
    "board, prescreening_list, before_list, after_list, finished_list = setup_trello_board()"
   ]
  },
  {
   "cell_type": "markdown",
   "metadata": {
    "collapsed": true
   },
   "source": [
    "#### Add a new card in trello"
   ]
  },
  {
   "cell_type": "code",
   "execution_count": null,
   "metadata": {
    "collapsed": true
   },
   "outputs": [],
   "source": [
    "prescreening_list.add_card(\"John Kowalski - Data Scientist\",\"Some description goes here\")"
   ]
  },
  {
   "cell_type": "markdown",
   "metadata": {},
   "source": [
    "#### NLU\n",
    "\n",
    "We use rasa library for the NLU. To start the server we need to execute it through Bash shell of our Docker container like following:\n",
    "\n",
    "```python3 -m rasa_nlu.server &```\n",
    "\n",
    "Most important part is the learning part as rasa does not know nothing about recruitment. You can learn more about this library by reading the documentation: [5]. It use some NLP libraries like [6]. It use a neural network. MITIE uses a SVM.\n",
    "\n",
    "To train the NLU server, we should prepare a data set of intents, synonomis and entities, but first let's check how does it work and execute some examples on the server."
   ]
  },
  {
   "cell_type": "code",
   "execution_count": null,
   "metadata": {
    "collapsed": true
   },
   "outputs": [],
   "source": [
    "def get_intent(sentence):\n",
    "    url = \"http://localhost:5000/parse\"\n",
    "    payload = {\"q\":sentence}\n",
    "    response = requests.get(url,params=payload)    \n",
    "    print(response.json())\n",
    "    intent = response.json()['intent']\n",
    "    if intent['confidence'] > 0.5: \n",
    "        return intent['name']\n",
    "    return response.json()\n",
    "\n",
    "get_intent(\"hi\")"
   ]
  },
  {
   "cell_type": "code",
   "execution_count": null,
   "metadata": {
    "collapsed": true
   },
   "outputs": [],
   "source": [
    "from rasa_nlu.converters import load_data\n",
    "from rasa_nlu.config import RasaNLUConfig\n",
    "from rasa_nlu.model import Trainer\n",
    "\n",
    "training_data = load_data('data.json')\n",
    "trainer = Trainer(RasaNLUConfig(\"config.json\"))\n",
    "trainer.train(training_data)\n",
    "model_directory = trainer.persist('.')"
   ]
  },
  {
   "cell_type": "code",
   "execution_count": null,
   "metadata": {
    "collapsed": true
   },
   "outputs": [],
   "source": [
    "from rasa_nlu.model import Metadata, Interpreter\n",
    "\n",
    "interpreter = Interpreter.load(model_directory, RasaNLUConfig(\"config.json\"))\n",
    "\n",
    "interpreter.parse(u\"add candidate\")"
   ]
  },
  {
   "cell_type": "markdown",
   "metadata": {},
   "source": [
    "#### TASK 3: Set a list of questions about the candidate if candidate_add intent appears\n",
    "\n",
    "The bot should check the received messages and check using ```interpreter.parse()``` what kind of intent it is dealing with. If it's candidate_add intentent, Anna should ask questions for: forname, surname and position. All responses should be saved to trello in one card. If a response isn't clear Anna should ask for clarification."
   ]
  },
  {
   "cell_type": "code",
   "execution_count": null,
   "metadata": {
    "collapsed": true
   },
   "outputs": [],
   "source": [
    "sc = SlackClient(slack_token)\n",
    "\n",
    "if sc.rtm_connect():\n",
    "      last_message_id = 0\n",
    "      while True:\n",
    "            pass            \n",
    "        # your code goes here\n",
    "else:\n",
    "    print(\"Connection failed\")"
   ]
  },
  {
   "cell_type": "markdown",
   "metadata": {
    "collapsed": true
   },
   "source": [
    "#### TASK 4: Create a new training data set for NLU for candidate_move intent and move the card in Trello\n",
    "\n",
    "The same as previous one task, but this time it's a bit more difficult, because we need to train our NLU a new intent and move the cards on trello. Please update the above code."
   ]
  },
  {
   "cell_type": "markdown",
   "metadata": {},
   "source": [
    "### Scenario 3"
   ]
  },
  {
   "cell_type": "markdown",
   "metadata": {},
   "source": [
    "We need to setup the variables needed to connect to AVS in the first place. Fill out the variables below."
   ]
  },
  {
   "cell_type": "code",
   "execution_count": null,
   "metadata": {
    "collapsed": true
   },
   "outputs": [],
   "source": [
    "PRODUCT_ID = \"\"\n",
    "CLIENT_ID = \"\"\n",
    "CLIENT_SECRET = \"\"\n",
    "WEB_PORT = 9000"
   ]
  },
  {
   "cell_type": "markdown",
   "metadata": {},
   "source": [
    "The last variable is the refresh token. It is refreshed at each tick, so we need to get it a new one now. To do so we can use the folowing code."
   ]
  },
  {
   "cell_type": "code",
   "execution_count": null,
   "metadata": {
    "collapsed": true
   },
   "outputs": [],
   "source": [
    "# source: https://github.com/ewenchou/alexa-client\n",
    "import cherrypy\n",
    "import json\n",
    "import requests\n",
    "import urllib\n",
    "import uuid\n",
    "\n",
    "class Start(object):\n",
    "    def index(self):\n",
    "        sd = json.dumps({\n",
    "            \"alexa:all\": {\n",
    "                \"productID\": PRODUCT_ID,\n",
    "                \"productInstanceAttributes\": {\n",
    "                    \"deviceSerialNumber\": uuid.getnode()\n",
    "                }\n",
    "            }\n",
    "        })\n",
    "        url = \"https://www.amazon.com/ap/oa\"\n",
    "        callback = \"http://localhost:9000/authresponse\"#cherrypy.url() + \"callback\"\n",
    "        payload = {\n",
    "            \"client_id\": CLIENT_ID,\n",
    "            \"scope\": \"alexa:all\",\n",
    "            \"scope_data\": sd,\n",
    "            \"response_type\": \"code\",\n",
    "            \"redirect_uri\": callback\n",
    "        }\n",
    "        req = requests.Request('GET', url, params=payload)\n",
    "        p = req.prepare()\n",
    "        raise cherrypy.HTTPRedirect(p.url)\n",
    "\n",
    "    def authresponse(self, var=None, **params):\n",
    "        code = urllib.parse.quote(cherrypy.request.params['code'])\n",
    "        callback = cherrypy.url()\n",
    "        payload = {\n",
    "            \"client_id\": CLIENT_ID,\n",
    "            \"client_secret\": CLIENT_SECRET,\n",
    "            \"code\": code,\n",
    "            \"grant_type\": \"authorization_code\",\n",
    "            \"redirect_uri\": callback\n",
    "        }\n",
    "        url = \"https://api.amazon.com/auth/o2/token\"\n",
    "        r = requests.post(url, data=payload)\n",
    "        resp = r.json()\n",
    "        return \"Refresh token:<br>{}\".format(\n",
    "            resp['refresh_token'])\n",
    "\n",
    "    index.exposed = True\n",
    "    authresponse.exposed = True\n",
    "\n",
    "cherrypy.config.update({'server.socket_host': '0.0.0.0'})\n",
    "cherrypy.config.update({'server.socket_port': WEB_PORT})\n",
    "print('Open http://localhost:9000 to login in amazon alexa service')\n",
    "cherrypy.quickstart(Start())"
   ]
  },
  {
   "cell_type": "markdown",
   "metadata": {},
   "source": [
    "Now copy-paste the token below."
   ]
  },
  {
   "cell_type": "code",
   "execution_count": null,
   "metadata": {
    "collapsed": true
   },
   "outputs": [],
   "source": [
    "REFRESH_TOKEN=\"\""
   ]
  },
  {
   "cell_type": "markdown",
   "metadata": {},
   "source": [
    "##### Text to speech\n",
    "\n",
    "Now it's time to imitate our voice. Let's use Google Text to Speech API."
   ]
  },
  {
   "cell_type": "code",
   "execution_count": 3,
   "metadata": {
    "collapsed": false
   },
   "outputs": [
    {
     "data": {
      "text/plain": [
       "<_io.BufferedRandom name='hello.wav'>"
      ]
     },
     "execution_count": 3,
     "metadata": {},
     "output_type": "execute_result"
    }
   ],
   "source": [
    "from gtts import gTTS\n",
    "\n",
    "tts = gTTS(text='Alexa, what is the current time in Poland?', lang='en-us', slow=False)\n",
    "tts.save(\"hello.mp3\")\n",
    "\n",
    "from pydub import AudioSegment\n",
    "\n",
    "sound = AudioSegment.from_mp3(\"hello.mp3\")\n",
    "sound.export(\"hello.wav\", format=\"wav\")"
   ]
  },
  {
   "cell_type": "code",
   "execution_count": 4,
   "metadata": {
    "collapsed": false
   },
   "outputs": [
    {
     "data": {
      "text/html": [
       "\n",
       "                <audio controls=\"controls\" >\n",
       "                    <source src=\"hello.mp3\" type=\"audio/mpeg\" />\n",
       "                    Your browser does not support the audio element.\n",
       "                </audio>\n",
       "              "
      ],
      "text/plain": [
       "<IPython.lib.display.Audio object>"
      ]
     },
     "execution_count": 4,
     "metadata": {},
     "output_type": "execute_result"
    }
   ],
   "source": [
    "from IPython.display import Audio\n",
    "sound_file = 'hello.mp3'\n",
    "\n",
    "Audio(url=sound_file, autoplay=False)"
   ]
  },
  {
   "cell_type": "markdown",
   "metadata": {
    "collapsed": true
   },
   "source": [
    "#### Connect to AVS"
   ]
  },
  {
   "cell_type": "code",
   "execution_count": 33,
   "metadata": {
    "collapsed": false
   },
   "outputs": [],
   "source": [
    "from avs_client import AlexaVoiceServiceClient\n",
    "\n",
    "alexa_client = AlexaVoiceServiceClient(\n",
    "    client_id=CLIENT_ID,\n",
    "    secret=CLIENT_SECRET,\n",
    "    refresh_token=REFRESH_TOKEN,\n",
    ")\n",
    "alexa_client.connect()\n",
    "\n",
    "with open('./hello.wav', 'rb') as f:\n",
    "    alexa_response_audio = alexa_client.send_audio_file(f)\n",
    "with open('./output2.wav', 'wb') as f:\n",
    "    f.write(alexa_response_audio)"
   ]
  },
  {
   "cell_type": "markdown",
   "metadata": {},
   "source": [
    "### Where to go next?\n",
    "\n",
    "- use generative models [7],\n",
    "- build an Alexa skill,\n",
    "- try Stanford library for sentiment analysis [8],\n",
    "- register for more workshops on bots: workshops.codete.com\n"
   ]
  },
  {
   "cell_type": "markdown",
   "metadata": {},
   "source": [
    "##### Glossary\n",
    "\n",
    "**Intent** - user's goal (intention)\n",
    "\n",
    "**Sentiment Analysis** - is about the emotions of the user\n",
    "\n",
    "**Natural Lanaguage Understanding** - is a part of NLP that focus on the more complex part of NLP which is the understanding of sentences"
   ]
  },
  {
   "cell_type": "markdown",
   "metadata": {},
   "source": [
    "##### References:\n",
    "\n",
    "[1] **Designing Bots**, Amir Shevat, O’Reilly 2017\n",
    "\n",
    "[2] https://api.slack.com/methods\n",
    "\n",
    "[3] https://res.codete.com/sentiment_analysis.pdf\n",
    "\n",
    "[4] https://github.com/sarumont/py-trello\n",
    "\n",
    "[5] http://nlu.rasa.ai/\n",
    "\n",
    "[6] https://spacy.io/\n",
    "\n",
    "[7] http://cbl.eng.cam.ac.uk/pub/Intranet/MLG/ReadingGroup/Deep_Gen_Janz_Requeima.pdf\n",
    "\n",
    "[8] https://nlp.stanford.edu/sentiment/"
   ]
  },
  {
   "cell_type": "markdown",
   "metadata": {},
   "source": [
    "##### Contact\n",
    "\n",
    "You can contact me by email: karol@codete.com or meet me in Berlin or Kraków at our Codete offices. You can also add me at LinkedIn: https://www.linkedin.com/in/karolprzystalski/"
   ]
  }
 ],
 "metadata": {
  "kernelspec": {
   "display_name": "Python 3",
   "language": "python",
   "name": "python3"
  },
  "language_info": {
   "codemirror_mode": {
    "name": "ipython",
    "version": 3
   },
   "file_extension": ".py",
   "mimetype": "text/x-python",
   "name": "python",
   "nbconvert_exporter": "python",
   "pygments_lexer": "ipython3",
   "version": "3.5.3"
  }
 },
 "nbformat": 4,
 "nbformat_minor": 2
}
