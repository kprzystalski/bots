{
 "cells": [
  {
   "cell_type": "markdown",
   "metadata": {},
   "source": [
    "![workshops](images/codete_workshops.jpg)"
   ]
  },
  {
   "cell_type": "markdown",
   "metadata": {},
   "source": [
    "# Slack bot - setup RTM environment\n",
    "\n",
    "In this section we will create Anna, our HR assistant bot in Slack. This section covers the following topics:\n",
    "- setting up Slack for bots,\n",
    "- setting up Trello for Anna,\n",
    "- explanation between RTM and Events API,\n",
    "- use Anna to handle the messages"
   ]
  },
  {
   "cell_type": "markdown",
   "metadata": {},
   "source": [
    "<p align=\"center\">\n",
    "  <img src=\"images/hr_bot_logo_S.png\" />\n",
    "</p>"
   ]
  },
  {
   "cell_type": "markdown",
   "metadata": {},
   "source": [
    "## Setup Slack account for RTM\n",
    "\n",
    "It's good to create a new slack workspace, but you can use also a slack account where you have the admin priviliges. \n",
    "Follow the instructions to setup your Slack account for RTM API:\n",
    "1. Go to www.slack.com and **register**.\n",
    "2. Create a new **workspace**.\n",
    "3. Click **Browser** in the top.\n",
    "4. Browser for **Bots** and choose it.\n",
    "5. **Add configuration**\n",
    "6. Fill out the fields: \n",
    "    - Customize Name\n",
    "    - Full Name\n",
    "7. Copy the **API Token** and into a variable SLACK_TOKEN.\n",
    "8. **Save Integration**."
   ]
  },
  {
   "cell_type": "code",
   "execution_count": null,
   "metadata": {},
   "outputs": [],
   "source": [
    "SLACK_TOKEN = \"\""
   ]
  },
  {
   "cell_type": "markdown",
   "metadata": {},
   "source": [
    "Let's try use Anna. We use the SlackClient package. "
   ]
  },
  {
   "cell_type": "code",
   "execution_count": null,
   "metadata": {},
   "outputs": [],
   "source": [
    "from slackclient import SlackClient\n",
    "\n",
    "sc = SlackClient(SLACK_TOKEN)\n",
    "\n",
    "if sc.rtm_connect():\n",
    "     sc.api_call(\"chat.postMessage\", channel=\"#general\",\n",
    "                          text=\"test\", as_user=False) \n",
    "else:\n",
    "    print(\"Connection failed\")"
   ]
  },
  {
   "cell_type": "code",
   "execution_count": null,
   "metadata": {},
   "outputs": [],
   "source": [
    "sc = SlackClient(SLACK_TOKEN)\n",
    "\n",
    "if sc.rtm_connect():\n",
    "     sc.api_call(\"chat.postMessage\", channel=\"#general\",\n",
    "                          text=\"Hello. I'm Anna, your HR assistant. How can I help?\", as_user=True)\n",
    "else:\n",
    "    print(\"Connection failed\")"
   ]
  },
  {
   "cell_type": "markdown",
   "metadata": {},
   "source": [
    "### Exercise 1: Identify with who the bot is getting the message from and get channel id by name. Get also the channel lists by name\n",
    "\n",
    "Implement a util function ```get_user_map()```. As parameter we get an instance of ```SlackClient```. Use it to get the user lists by ```id``` as a map ```{'id':'name'}```. Find the proper method in the Slack API documentation: [Slack API docs](https://api.slack.com/methods). Use it to display the channel and user names."
   ]
  },
  {
   "cell_type": "code",
   "execution_count": null,
   "metadata": {},
   "outputs": [],
   "source": [
    "def get_user_map(sc):\n",
    "    users = {}\n",
    "    # put your code here\n",
    "    return users"
   ]
  },
  {
   "cell_type": "code",
   "execution_count": null,
   "metadata": {},
   "outputs": [],
   "source": [
    "def get_channel_id_by_name(sc, channel_name):\n",
    "    channel_id = \"\"\n",
    "    # put your code here\n",
    "    return channel_id"
   ]
  },
  {
   "cell_type": "code",
   "execution_count": null,
   "metadata": {},
   "outputs": [],
   "source": [
    "import time\n",
    "\n",
    "sc = SlackClient(SLACK_TOKEN)\n",
    "\n",
    "if sc.rtm_connect():\n",
    "      channel_id = get_channel_id_by_name(sc, \"general\")\n",
    "      last_message_id = 0\n",
    "      while True:\n",
    "           response = sc.api_call(\"channels.history\", channel=\"C76LMNLFP\", count=1,latest=\"\")\n",
    "           if response['ok']:\n",
    "                msg = response['messages'][0]\n",
    "                if msg['ts'] != last_message_id:\n",
    "                     if 'user' in msg:\n",
    "                          #put your code here\n",
    "                          print(msg[\"user\"]+\": \"+ msg[\"text\"])\n",
    "                          last_message_id = msg['ts']\n",
    "           time.sleep(5)       \n",
    "else:\n",
    "    print(\"Connection failed\") "
   ]
  },
  {
   "cell_type": "markdown",
   "metadata": {},
   "source": [
    "## Trello setup\n",
    "\n",
    "We need to create a Trello board and get all the keys needed. To do so, we should do the following:\n",
    "1. Register at [Trello](trello.com).\n",
    "2. Go to [Trello API keys](https://trello.com/app-key).\n",
    "3. Copy the API key (top) and secret key (bottom) into below variables.\n",
    "4. Click to generate a token (a link in the top) and copy it to the variables below."
   ]
  },
  {
   "cell_type": "code",
   "execution_count": null,
   "metadata": {},
   "outputs": [],
   "source": [
    "API_KEY = \"\"\n",
    "API_SECRET_KEY = \"\"\n",
    "TOKEN = \"\"\n",
    "TOKEN_SECRET = \"\""
   ]
  },
  {
   "cell_type": "markdown",
   "metadata": {},
   "source": [
    "Now, we can test our Trello connection and check what kind of boards do we have."
   ]
  },
  {
   "cell_type": "code",
   "execution_count": null,
   "metadata": {},
   "outputs": [],
   "source": [
    "from trello import TrelloClient\n",
    "\n",
    "client = TrelloClient(\n",
    "    api_key=API_KEY,\n",
    "    api_secret=API_SECRET_KEY,\n",
    "    token=TOKEN,\n",
    "    token_secret=TOKEN_SECRET\n",
    ")\n",
    "\n",
    "boards = client.list_boards()\n",
    "print(boards)"
   ]
  },
  {
   "cell_type": "markdown",
   "metadata": {},
   "source": [
    "You can setup the boards manually or use the code below to setup all HR pipeline boards."
   ]
  },
  {
   "cell_type": "code",
   "execution_count": null,
   "metadata": {},
   "outputs": [],
   "source": [
    "def setup_trello_board():\n",
    "    recruitment_board = None\n",
    "    for board in boards:\n",
    "        if board.name == \"Recruitment\":\n",
    "            recruitment_board= board\n",
    "    if recruitment_board == None:\n",
    "        recruitment_board = client.add_board(\"Recruitment\")\n",
    "    lists_to_create = ['Prescreening','Before interview','After interview','Finished']\n",
    "    \n",
    "    #trello_lists = recruitment_board.all_list()\n",
    "    \n",
    "    finished_list     = recruitment_board.add_list(lists_to_create[3])\n",
    "    after_list        = recruitment_board.add_list(lists_to_create[2])\n",
    "    before_list       = recruitment_board.add_list(lists_to_create[1])\n",
    "    prescreening_list = recruitment_board.add_list(lists_to_create[0])        \n",
    "    \n",
    "    return recruitment_board, prescreening_list, before_list, after_list, finished_list\n",
    "\n",
    "# run once\n",
    "board, prescreening_list, before_list, after_list, finished_list = setup_trello_board()"
   ]
  },
  {
   "cell_type": "markdown",
   "metadata": {},
   "source": [
    "Let's test it by adding a new card to a board."
   ]
  },
  {
   "cell_type": "code",
   "execution_count": null,
   "metadata": {},
   "outputs": [],
   "source": [
    "prescreening_list.add_card(\"John Kowalski - Data Scientist\",\"Some description goes here\")"
   ]
  },
  {
   "cell_type": "markdown",
   "metadata": {},
   "source": [
    "### Exercise 2: Combine RTM API with Trello. If the message does have only the list word in message, we should list the cards in prescreening list on Slack.\n",
    "\n",
    "Hint: you can use some methods available in the [doc](https://github.com/sarumont/py-trello)."
   ]
  },
  {
   "cell_type": "code",
   "execution_count": null,
   "metadata": {},
   "outputs": [],
   "source": [
    "sc = SlackClient(SLACK_TOKEN)\n",
    "\n",
    "if sc.rtm_connect():\n",
    "    #channel_id = get_channel_id_by_name(sc, \"general\")\n",
    "    last_message_id = 0\n",
    "    while True:\n",
    "        response = sc.api_call(\"channels.history\", channel=\"C76LMNLFP\", count=1,latest=\"\")\n",
    "        if response['ok']:\n",
    "            msg = response['messages'][0]\n",
    "            if msg['ts'] != last_message_id:\n",
    "                if 'user' in msg:\n",
    "                    # use prescreening_list variable here\n",
    "                    pass\n",
    "        time.sleep(5)       \n",
    "else:\n",
    "    print(\"Connection failed\") "
   ]
  },
  {
   "cell_type": "markdown",
   "metadata": {},
   "source": [
    "## Setup Slack for Events API\n",
    "\n",
    "Follow the instructions to setup your Slack account for RTM API:\n",
    "1. Go to your workspace and click **Build** and next **Start Building**.\n",
    "2. Fill out the **App Name** and choose the Workspace. Next, click on **Create app**.\n",
    "3. Go to **Event Subscriptions** and turn it on. Save changes.\n",
    "4. Go to **Bot Users** and fill out the fields. You can turn the online status. Save changes.\n",
    "5. Go to **OAuth and Permissions** and copy the **Bot User OAuth Access Token** value.\n",
    "6. Go back to **Event Subscriptions** and subscribe to Workspace Events for **reaction_added**.\n",
    "7. In Request URL fill as your ngrok URL and add at the end /slack/events. Use the code below to validate the URL.\n",
    "8. Go back to **Basic Information**. Fill out the App name and give an app icon (optional). Copy the **verification token**.\n",
    "9. Go to the top and make sure you have changes on **Event Subscriptions**, **Bots** and **Permissions**.\n",
    "10. Install your app."
   ]
  },
  {
   "cell_type": "code",
   "execution_count": null,
   "metadata": {},
   "outputs": [],
   "source": [
    "VERIFICATION_TOKEN = \"\""
   ]
  },
  {
   "cell_type": "code",
   "execution_count": null,
   "metadata": {},
   "outputs": [],
   "source": [
    "from flask import Flask, request\n",
    "from slackeventsapi import SlackEventAdapter\n",
    "\n",
    "app = Flask(__name__)\n",
    "@app.route(\"/slack/events\",methods=['GET','POST'])\n",
    "def authorize():\n",
    "  output = request.get_json()\n",
    "  return output[\"challenge\"]\n",
    "\n",
    "if __name__ == \"__main__\":\n",
    "  app.run(port=3000)"
   ]
  },
  {
   "cell_type": "markdown",
   "metadata": {},
   "source": [
    "Now we can start a new instance of our server to handle the actions."
   ]
  },
  {
   "cell_type": "code",
   "execution_count": null,
   "metadata": {},
   "outputs": [],
   "source": [
    "app = Flask(__name__)\n",
    "\n",
    "slack_events_adapter = SlackEventAdapter(VERIFICATION_TOKEN, \"/slack/events\", app)\n",
    "\n",
    "@slack_events_adapter.on(\"reaction_added\")\n",
    "def reaction_added(event):\n",
    " emoji = event.get(\"event\").get(\"reaction\")\n",
    " print(emoji)\n",
    "\n",
    "if __name__ == \"__main__\":\n",
    "  app.run(port=3000)"
   ]
  },
  {
   "cell_type": "markdown",
   "metadata": {},
   "source": [
    "### Exercise 3: Use the Events API and RTM API and extend the  previous exercise with to handle the messages with Events API and respond with RTM API. \n",
    "\n",
    "Hints: \n",
    "1. Change the event subscriptions and reinstall the app.\n",
    "2. Use **Bot User OAuth Access Token** as the SLACK_TOKEN for SlackClient."
   ]
  },
  {
   "cell_type": "code",
   "execution_count": null,
   "metadata": {},
   "outputs": [],
   "source": [
    "### put your code here"
   ]
  }
 ],
 "metadata": {
  "kernelspec": {
   "display_name": "Python 3",
   "language": "python",
   "name": "python3"
  },
  "language_info": {
   "codemirror_mode": {
    "name": "ipython",
    "version": 3
   },
   "file_extension": ".py",
   "mimetype": "text/x-python",
   "name": "python",
   "nbconvert_exporter": "python",
   "pygments_lexer": "ipython3",
   "version": "3.6.3"
  }
 },
 "nbformat": 4,
 "nbformat_minor": 2
}
